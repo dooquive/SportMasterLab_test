{
 "cells": [
  {
   "cell_type": "code",
   "execution_count": 36,
   "metadata": {},
   "outputs": [],
   "source": [
    "import numpy as np"
   ]
  },
  {
   "cell_type": "markdown",
   "metadata": {},
   "source": [
    "## Задача 2\n",
    "Написать функцию, которая: \n",
    "1) принимает на вход итерируемый объект (list, tuple, np.array и т.п.) и число N - кол-во частей, на которые нужно разделить исходный итерируемый объект;\n",
    "2) возвращает на выходе список из N-частей исходного итерируемого объекта.\n",
    "\n",
    "Ограничения на результат:\n",
    "1) Типы элементов, которые хранятся внутри исходного итерируемого объекта, не должны изменяться в результирующем списке\n",
    "\n",
    "[[1,'a','b'], [2, 'c', 'd'], [3, 'e', 'f']], N=2 -> [[1, 'a', 'b'], [2, 'c', 'd']], [[3, 'e', 'f']] - хорошо\n",
    "\n",
    "[[1,'a','b'], [2, 'c', 'd'], [3, 'e', 'f']], N=2 -> [['1', 'a', 'b'], ['2', 'c', 'd']], [['3', 'e', 'f']] - плохо\n",
    "\n",
    "2) Элементы исходного итерируемого объекта должны быть максимально равномерно распределены между частями:\n",
    "\n",
    "[1,2,3,4,5,6,7,8,9], N=4 -> [[1,2,3], [4,5], [6,7], [8,9]] - хорошо\n",
    "\n",
    "[1,2,3,4,5,6,7,8,9], N=4 -> [[1], [2,3], [4,5,6], [7,8,9]] – плохо\n",
    "\n",
    "[1,2,3,4,5,6,7,8,9,10], N=4 -> [[1,2,3], [4,5, 6], [7,8], [9, 10]] – хорошо\n",
    "\n",
    "[1,2,3,4,5,6,7,8,9,10], N=4 -> [[1,2,3], [4,5, 6], [7,8,9], [10]] – плохо\n",
    "\n",
    "3) Разбиение должно сохранять порядок следования элементов в исходном списке\n",
    "\n",
    "[1,2,3,4,5,6,7,8,9], N=4 -> [[1,2,3], [4,5], [6,7], [8,9]] - хорошо\n",
    "\n",
    "[1,2,3,4,5,6,7,8,9], N=4 -> [[1,4,8], [2,5], [3,6], [7,9]] – плохо"
   ]
  },
  {
   "cell_type": "markdown",
   "metadata": {},
   "source": [
    "### Небольшая справка\n",
    "* Оценивается отношение длины исходного объекта к числу частей, на которое мы хотим его разбить.\n",
    "* Вычисляется \"базовый\" размер одной части с помощью целочисленного деления длины исходного объекта на количество частей.\n",
    "* Если остаётся какой-то остаток, например k (какое-то количество \"невостребованных\" элементов), то мы распределяем элементы остатка по одному в первые k частей ( k >= 0 и k <= n-1 - по свойству остатка от деления)."
   ]
  },
  {
   "cell_type": "code",
   "execution_count": 2,
   "metadata": {},
   "outputs": [],
   "source": [
    "# Функция, разбивающая итерируемый объект на части равномерно\n",
    "#\n",
    "# @param {iterable object} a_iter_obj - итерируемый объект\n",
    "# @param {int}             a_n        - количество частей, на которые его необходимо разделить\n",
    "#\n",
    "# return {list}                       - список, разделённый на части (списки) примерно равной длины\n",
    "#                                       пустой список в случае ошибок\n",
    "def SliceIterObject(a_iter_obj, a_n):\n",
    "\n",
    "    # Проверка, является ли объект итерируемым\n",
    "    try:\n",
    "        iter(a_iter_obj)\n",
    "    except Exception:\n",
    "        return []\n",
    "\n",
    "    obj_size = len(a_iter_obj)\n",
    "    \n",
    "    # Если хотят разделить на 0 частей или же количество частей отрицательно\n",
    "    if a_n <= 0:\n",
    "        return []\n",
    "    \n",
    "    # Если итерируемый объект пуст\n",
    "    if obj_size == 0:\n",
    "        return []\n",
    "    \n",
    "    # Если размер объекта меньше количества частей,\n",
    "    # на которое его нужно поделить\n",
    "    if obj_size < a_n:\n",
    "        return []\n",
    "    \n",
    "    # Минимальный размер части итогового списка\n",
    "    part_min_size = obj_size // a_n\n",
    "    # Остаток от деления на количество частей\n",
    "    # Будет обозначать количество первых частей, в которых будет больше на 1 элемент\n",
    "    greater_parts_count = obj_size % a_n\n",
    "    \n",
    "    # Результат\n",
    "    result_list = []\n",
    "    \n",
    "    # Инициализируем первую часть\n",
    "    if (greater_parts_count > 0):\n",
    "        tmp_part_target_size = part_min_size + 1\n",
    "        greater_parts_count -= 1\n",
    "    else:\n",
    "        tmp_part_target_size = part_min_size\n",
    "\n",
    "    tmp_part = []\n",
    "\n",
    "    \n",
    "    for i in a_iter_obj:        \n",
    "        # Если текущая часть списка уже полностью заполнена\n",
    "        # 1. добавляем её в результирующий список\n",
    "        # 2. обнуляем переменную tmp_part\n",
    "        # 3. рассчитывем размер следующей tmp_part: min+1, если счётчик бОльших частей ещё не равено 0, \n",
    "        #    min - в противном случае\n",
    "        if len(tmp_part) == tmp_part_target_size:\n",
    "            result_list.append(tmp_part)\n",
    "            tmp_part = []\n",
    "            \n",
    "            if(greater_parts_count > 0):\n",
    "                tmp_part_target_size = part_min_size + 1\n",
    "                greater_parts_count -= 1\n",
    "            else:\n",
    "                tmp_part_target_size = part_min_size\n",
    "        \n",
    "        # Добавление элемента в текущую часть\n",
    "        tmp_part.append(i)\n",
    "    \n",
    "    \n",
    "    # Добавляем последнюю часть в результирующий список\n",
    "    result_list.append(tmp_part)\n",
    "            \n",
    "    return result_list"
   ]
  },
  {
   "cell_type": "code",
   "execution_count": 55,
   "metadata": {},
   "outputs": [
    {
     "data": {
      "text/plain": [
       "[[1, 'a', 'b', 2, 'c'], ['d', 3, 'e', 'f', 1337]]"
      ]
     },
     "execution_count": 55,
     "metadata": {},
     "output_type": "execute_result"
    }
   ],
   "source": [
    "SliceIterObject([1,'a','b', 2, 'c', 'd', 3, 'e', 'f', 1337], 2)"
   ]
  },
  {
   "cell_type": "code",
   "execution_count": 56,
   "metadata": {},
   "outputs": [
    {
     "data": {
      "text/plain": [
       "[[1, 2, 3], [4, 5], [6, 7], [8, 9]]"
      ]
     },
     "execution_count": 56,
     "metadata": {},
     "output_type": "execute_result"
    }
   ],
   "source": [
    "SliceIterObject(np.array([1,2,3,4,5,6,7,8,9]), 4)"
   ]
  },
  {
   "cell_type": "code",
   "execution_count": 57,
   "metadata": {},
   "outputs": [
    {
     "data": {
      "text/plain": [
       "[[1, 2, 3], [4, 5, 6], [7, 8], [9, 10]]"
      ]
     },
     "execution_count": 57,
     "metadata": {},
     "output_type": "execute_result"
    }
   ],
   "source": [
    "SliceIterObject((1,2,3,4,5,6,7,8,9,10), 4)"
   ]
  },
  {
   "cell_type": "code",
   "execution_count": 3,
   "metadata": {},
   "outputs": [
    {
     "data": {
      "text/plain": [
       "[[[1, 'a', 'b'], [2, 'c', 'd']], [[3, 'e', 'f']]]"
      ]
     },
     "execution_count": 3,
     "metadata": {},
     "output_type": "execute_result"
    }
   ],
   "source": [
    "SliceIterObject([[1,'a','b'], [2, 'c', 'd'], [3, 'e', 'f']], 2)"
   ]
  }
 ],
 "metadata": {
  "kernelspec": {
   "display_name": "Python 3",
   "language": "python",
   "name": "python3"
  },
  "language_info": {
   "codemirror_mode": {
    "name": "ipython",
    "version": 3
   },
   "file_extension": ".py",
   "mimetype": "text/x-python",
   "name": "python",
   "nbconvert_exporter": "python",
   "pygments_lexer": "ipython3",
   "version": "3.7.4"
  }
 },
 "nbformat": 4,
 "nbformat_minor": 4
}
