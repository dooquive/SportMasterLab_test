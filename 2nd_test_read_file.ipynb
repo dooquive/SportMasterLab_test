{
 "cells": [
  {
   "cell_type": "code",
   "execution_count": 12,
   "metadata": {},
   "outputs": [],
   "source": [
    "#\n",
    "# @param {a_path}         - путь к файлу\n",
    "# @param {a_target_value} - значение, по которому хотим произвести отбор\n",
    "#\n",
    "# return {list}           - список строк, удовлетворяющих условию\n",
    "def ParseCsv(a_path, a_target_value):\n",
    "    result = []\n",
    "    \n",
    "    with open(a_path, 'r') as file:\n",
    "        for line in file:\n",
    "            curr_fields = line.replace('\\n','').split(\";\")\n",
    "            print(curr_fields)\n",
    "            if(curr_fields[2] == a_target_value):\n",
    "                result.append(line)\n",
    "    \n",
    "    return result"
   ]
  },
  {
   "cell_type": "code",
   "execution_count": 13,
   "metadata": {},
   "outputs": [
    {
     "name": "stdout",
     "output_type": "stream",
     "text": [
      "['field1', 'field2', 'field3']\n",
      "['test_1', '2', 'value1']\n",
      "['test_2', '213', 'value1']\n",
      "['test_3', '33', 'value2']\n",
      "['test_4', '21312', 'value1']\n",
      "['test_5', '322', 'value2']\n"
     ]
    },
    {
     "data": {
      "text/plain": [
       "['test_3;33;value2\\n', 'test_5;322;value2\\n']"
      ]
     },
     "execution_count": 13,
     "metadata": {},
     "output_type": "execute_result"
    }
   ],
   "source": [
    "ParseCsv(\"test.csv\", \"value2\")"
   ]
  }
 ],
 "metadata": {
  "kernelspec": {
   "display_name": "Python 3",
   "language": "python",
   "name": "python3"
  },
  "language_info": {
   "codemirror_mode": {
    "name": "ipython",
    "version": 3
   },
   "file_extension": ".py",
   "mimetype": "text/x-python",
   "name": "python",
   "nbconvert_exporter": "python",
   "pygments_lexer": "ipython3",
   "version": "3.7.4"
  }
 },
 "nbformat": 4,
 "nbformat_minor": 2
}
