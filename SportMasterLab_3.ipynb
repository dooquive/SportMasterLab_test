{
 "cells": [
  {
   "cell_type": "code",
   "execution_count": 4,
   "metadata": {},
   "outputs": [],
   "source": [
    "import numpy as np"
   ]
  },
  {
   "cell_type": "markdown",
   "metadata": {},
   "source": [
    "## Задача 3\n",
    "#### Даны два numpy массива:\n",
    "1) массив чисел в формате double (например, np.array([1.0, 2.0, 3.0, 4.0, 5.0, 6.0, 7.0, 8.0]))\n",
    "\n",
    "2) массив порогов в формате double (например, np.array([0.1, 1.2, 1.5, 3.8, 7.7]))\n",
    "\n",
    "#### Написать функцию, которая принимает на вход два массива (массив чисел, и массив порогов) и возвращает на выходе массив элементов, каждый из которых представляет собой сумму всех элементов исходного массива, больших или равных заданному порогу. Как бы вы решили данную задачу без использования циклов?"
   ]
  },
  {
   "cell_type": "code",
   "execution_count": 193,
   "metadata": {},
   "outputs": [],
   "source": [
    "arr_numbers    = np.array([1.0, 2.0, 3.0, 4.0, 5.0, 6.0, 7.0, 8.0])\n",
    "arr_thresholds = np.array([0.1, 1.2, 1.5, 3.8, 7.7])"
   ]
  },
  {
   "cell_type": "markdown",
   "metadata": {},
   "source": [
    "### Версия 1\n",
    "### Примечание: данный вариант неоптимален и использует циклы, его я решил привести для сравнения с другими вариантами"
   ]
  },
  {
   "cell_type": "code",
   "execution_count": 185,
   "metadata": {},
   "outputs": [],
   "source": [
    "# Неоптимальный вариант с использованием циклов\n",
    "# @param {numpy.ndarray} a_numbers    - массив чисел\n",
    "# @param {numpy.ndarray} a_thresholds - массив порогов\n",
    "#\n",
    "# return {numpy.ndarray}              - массив из сумм элементов, >= заданному порогу\n",
    "def sum_elems_ver1(a_numbers, a_thresholds):\n",
    "    arr_sums = []\n",
    "    \n",
    "    for t in a_thresholds:\n",
    "        curr_sum = 0\n",
    "        \n",
    "        for num in a_numbers:\n",
    "            if num >= t:\n",
    "                curr_sum += num\n",
    "        \n",
    "        arr_sums.append(curr_sum)\n",
    "    \n",
    "    return np.array(arr_sums)"
   ]
  },
  {
   "cell_type": "code",
   "execution_count": 524,
   "metadata": {},
   "outputs": [
    {
     "data": {
      "text/plain": [
       "array([36., 35., 35., 30.,  8.])"
      ]
     },
     "execution_count": 524,
     "metadata": {},
     "output_type": "execute_result"
    }
   ],
   "source": [
    "test_ver1 = sum_elems_ver1(arr_numbers, arr_thresholds)\n",
    "test_ver1"
   ]
  },
  {
   "cell_type": "markdown",
   "metadata": {},
   "source": [
    "### Версия 2\n",
    "### Можно чуть оптимизировать этот вариант, добавив предварительную сортировку для массива чисел (в порядке убывания)"
   ]
  },
  {
   "cell_type": "code",
   "execution_count": 213,
   "metadata": {},
   "outputs": [],
   "source": [
    "# Чуть более оптимальный вариант с предварительной сортировкой\n",
    "# В функции создаётся отсортированная копия, но можно сортировать и исходный объект (зависит от условий задачи)\n",
    "#\n",
    "# @param {numpy.ndarray} a_numbers    - массив чисел\n",
    "# @param {numpy.ndarray} a_thresholds - массив порогов\n",
    "#\n",
    "# return {numpy.ndarray}              - массив из сумм элементов, >= заданному порогу\n",
    "def sum_elems_ver2(a_numbers, a_thresholds):\n",
    "\n",
    "    arr_sums = []\n",
    "    # Сортируем массив чисел в обратном порядке - создаётся его отсортированная копия\n",
    "    # Можно без копирования, вызывав a_numbers[::-1].sort() - память сэкономим, но изменится исходный массив\n",
    "    a_numbers_sorted = np.sort(a_numbers)[::-1]\n",
    "    \n",
    "    for t in a_thresholds:\n",
    "        curr_sum = 0\n",
    "        \n",
    "        for num in a_numbers_sorted:\n",
    "            if num < t:\n",
    "                break\n",
    "            else:\n",
    "                curr_sum += num\n",
    "        \n",
    "        arr_sums.append(curr_sum)\n",
    "    \n",
    "    return np.array(arr_sums)"
   ]
  },
  {
   "cell_type": "code",
   "execution_count": 526,
   "metadata": {},
   "outputs": [
    {
     "data": {
      "text/plain": [
       "array([36., 35., 35., 30.,  8.])"
      ]
     },
     "execution_count": 526,
     "metadata": {},
     "output_type": "execute_result"
    }
   ],
   "source": [
    "test_ver2 = sum_elems_ver2(arr_numbers, arr_thresholds)\n",
    "test_ver2"
   ]
  },
  {
   "cell_type": "code",
   "execution_count": 534,
   "metadata": {},
   "outputs": [
    {
     "data": {
      "text/plain": [
       "True"
      ]
     },
     "execution_count": 534,
     "metadata": {},
     "output_type": "execute_result"
    }
   ],
   "source": [
    "np.allclose(test_ver1, test_ver2)"
   ]
  },
  {
   "cell_type": "markdown",
   "metadata": {},
   "source": [
    "### Версия 3\n",
    "### Уберём циклы python, замедляющие работу.\n",
    "### За счёт чего? - за счёт свойств матричного умножения\n",
    "\n",
    "1. Мы можем получить матрицу-маску. Количество строк этой матрицы совпадает с количеством порогов. Строки матрицы содержат элементы со значением True для тех чисел, которые >= соответствующему порогу (в первой строке для первого порога, во второй строке - для второго порога и так далее...).\n",
    "2. Получив эту матрицу (состоящую из 0 и 1), мы можем умножить её на вектор-столбец исходных чисел. Таким образом, при умножении каждой строки матрицы-маски на вектор чисел мы получаем их сумму с коэффициентами 0 или 1 (0 для чисел, которые не должны учитывться в сумме и меньше заданного порога, 1 - наоборот). И так для каждого порога.\n",
    "3. На выходе получаем вектор-столбец сумм и транспонируем его, чтобы вернуть обычный массив."
   ]
  },
  {
   "cell_type": "code",
   "execution_count": 516,
   "metadata": {},
   "outputs": [],
   "source": [
    "# Вариант с использованием приёмов библиотеки numpy\n",
    "#\n",
    "# @param {numpy.ndarray} a_numbers    - массив чисел\n",
    "# @param {numpy.ndarray} a_thresholds - массив порогов\n",
    "#\n",
    "# return {numpy.ndarray}              - массив из сумм элементов, >= заданному порогу\n",
    "def sum_elems_ver3(a_numbers, a_thresholds):\n",
    "    \n",
    "    # Получаем матрицу-маску\n",
    "    mask_matr = a_numbers >= a_thresholds.reshape(-1,1)\n",
    "    \n",
    "    # Возвразаем транспонированный вектор-столбец с суммами для соответствующих порогов\n",
    "    return np.dot(mask_matr, a_numbers.transpose()).reshape(1,-1)"
   ]
  },
  {
   "cell_type": "code",
   "execution_count": 527,
   "metadata": {},
   "outputs": [
    {
     "data": {
      "text/plain": [
       "array([[36., 35., 35., 30.,  8.]])"
      ]
     },
     "execution_count": 527,
     "metadata": {},
     "output_type": "execute_result"
    }
   ],
   "source": [
    "test_ver3 = sum_elems_ver3(arr_numbers, arr_thresholds)\n",
    "test_ver3"
   ]
  },
  {
   "cell_type": "code",
   "execution_count": 533,
   "metadata": {},
   "outputs": [
    {
     "data": {
      "text/plain": [
       "True"
      ]
     },
     "execution_count": 533,
     "metadata": {},
     "output_type": "execute_result"
    }
   ],
   "source": [
    "np.allclose(test_ver1, test_ver3)"
   ]
  },
  {
   "cell_type": "markdown",
   "metadata": {},
   "source": [
    "### Попробуем потестировать написанные методы на случайно заполненных массивах бОльших размерностей"
   ]
  },
  {
   "cell_type": "code",
   "execution_count": 300,
   "metadata": {},
   "outputs": [],
   "source": [
    "# Генерация массивов из случайных чисел\n",
    "arr_numbers_2 = np.random.uniform(low=0.1, high=1000, size=(1000,))\n",
    "arr_thresholds_2 = np.random.uniform(low=0.1, high=1000, size=(1000,))"
   ]
  },
  {
   "cell_type": "code",
   "execution_count": 302,
   "metadata": {},
   "outputs": [
    {
     "name": "stdout",
     "output_type": "stream",
     "text": [
      "155 ms ± 328 µs per loop (mean ± std. dev. of 7 runs, 10 loops each)\n"
     ]
    }
   ],
   "source": [
    "%%timeit\n",
    "# Земер времени выполнения для первой версии\n",
    "sum_elems_ver1(arr_numbers_2, arr_thresholds_2)"
   ]
  },
  {
   "cell_type": "code",
   "execution_count": 303,
   "metadata": {},
   "outputs": [
    {
     "name": "stdout",
     "output_type": "stream",
     "text": [
      "99.1 ms ± 223 µs per loop (mean ± std. dev. of 7 runs, 10 loops each)\n"
     ]
    }
   ],
   "source": [
    "%%timeit\n",
    "# Земер времени выполнения для второй версии\n",
    "sum_elems_ver2(arr_numbers_2, arr_thresholds_2)"
   ]
  },
  {
   "cell_type": "code",
   "execution_count": 518,
   "metadata": {},
   "outputs": [
    {
     "name": "stdout",
     "output_type": "stream",
     "text": [
      "4.08 ms ± 121 µs per loop (mean ± std. dev. of 7 runs, 100 loops each)\n"
     ]
    }
   ],
   "source": [
    "%%timeit\n",
    "# Земер времени выполнения для третьей версии\n",
    "sum_elems_ver3(arr_numbers_2, arr_thresholds_2)"
   ]
  },
  {
   "cell_type": "code",
   "execution_count": 536,
   "metadata": {},
   "outputs": [
    {
     "data": {
      "text/plain": [
       "True"
      ]
     },
     "execution_count": 536,
     "metadata": {},
     "output_type": "execute_result"
    }
   ],
   "source": [
    "# Сравним результаты 1 и 2 версий между собой\n",
    "np.allclose(sum_elems_ver1(arr_numbers_2, arr_thresholds_2),sum_elems_ver2(arr_numbers_2, arr_thresholds_2))"
   ]
  },
  {
   "cell_type": "code",
   "execution_count": 535,
   "metadata": {},
   "outputs": [
    {
     "data": {
      "text/plain": [
       "True"
      ]
     },
     "execution_count": 535,
     "metadata": {},
     "output_type": "execute_result"
    }
   ],
   "source": [
    "# Сравним результаты 1 и 3 версий между собой\n",
    "np.allclose(sum_elems_ver1(arr_numbers_2, arr_thresholds_2),sum_elems_ver3(arr_numbers_2, arr_thresholds_2))"
   ]
  }
 ],
 "metadata": {
  "kernelspec": {
   "display_name": "Python 3",
   "language": "python",
   "name": "python3"
  },
  "language_info": {
   "codemirror_mode": {
    "name": "ipython",
    "version": 3
   },
   "file_extension": ".py",
   "mimetype": "text/x-python",
   "name": "python",
   "nbconvert_exporter": "python",
   "pygments_lexer": "ipython3",
   "version": "3.7.4"
  }
 },
 "nbformat": 4,
 "nbformat_minor": 4
}
